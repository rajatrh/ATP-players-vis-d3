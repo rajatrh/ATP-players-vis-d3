{
 "cells": [
  {
   "cell_type": "code",
   "execution_count": 1,
   "metadata": {},
   "outputs": [],
   "source": [
    "import pandas as pd\n",
    "import numpy as np\n",
    "from dateutil import tz\n",
    "import math"
   ]
  },
  {
   "cell_type": "code",
   "execution_count": 6,
   "metadata": {},
   "outputs": [],
   "source": [
    "df_atp_info = pd.read_csv('./atp_info.csv')\n",
    "df_player_info = pd.read_csv('./players_info.csv')"
   ]
  },
  {
   "cell_type": "code",
   "execution_count": 5,
   "metadata": {},
   "outputs": [
    {
     "data": {
      "text/plain": [
       "(44065, 33)"
      ]
     },
     "execution_count": 5,
     "metadata": {},
     "output_type": "execute_result"
    }
   ],
   "source": [
    "df_atp_info.shape"
   ]
  },
  {
   "cell_type": "code",
   "execution_count": 7,
   "metadata": {},
   "outputs": [
    {
     "data": {
      "text/plain": [
       "(1500, 35)"
      ]
     },
     "execution_count": 7,
     "metadata": {},
     "output_type": "execute_result"
    }
   ],
   "source": [
    "df_player_info.shape"
   ]
  },
  {
   "cell_type": "code",
   "execution_count": 9,
   "metadata": {},
   "outputs": [
    {
     "data": {
      "text/html": [
       "<div>\n",
       "<style scoped>\n",
       "    .dataframe tbody tr th:only-of-type {\n",
       "        vertical-align: middle;\n",
       "    }\n",
       "\n",
       "    .dataframe tbody tr th {\n",
       "        vertical-align: top;\n",
       "    }\n",
       "\n",
       "    .dataframe thead th {\n",
       "        text-align: right;\n",
       "    }\n",
       "</style>\n",
       "<table border=\"1\" class=\"dataframe\">\n",
       "  <thead>\n",
       "    <tr style=\"text-align: right;\">\n",
       "      <th></th>\n",
       "      <th>id</th>\n",
       "      <th>rank</th>\n",
       "      <th>name</th>\n",
       "      <th>nat</th>\n",
       "      <th>age</th>\n",
       "      <th>birth</th>\n",
       "      <th>turned_pro</th>\n",
       "      <th>weight</th>\n",
       "      <th>height</th>\n",
       "      <th>plays</th>\n",
       "      <th>...</th>\n",
       "      <th>re_games_won</th>\n",
       "      <th>re_points_won</th>\n",
       "      <th>total_points_won</th>\n",
       "      <th>prize</th>\n",
       "      <th>prize_year</th>\n",
       "      <th>score</th>\n",
       "      <th>score_year</th>\n",
       "      <th>coach</th>\n",
       "      <th>place_birth</th>\n",
       "      <th>residence</th>\n",
       "    </tr>\n",
       "  </thead>\n",
       "  <tbody>\n",
       "    <tr>\n",
       "      <td>0</td>\n",
       "      <td>0</td>\n",
       "      <td>1</td>\n",
       "      <td>RafaelNadal</td>\n",
       "      <td>ESP</td>\n",
       "      <td>32.0</td>\n",
       "      <td>1986.06.03</td>\n",
       "      <td>2001.0</td>\n",
       "      <td>85.0</td>\n",
       "      <td>185.0</td>\n",
       "      <td>Left-Handed,Two-Handed</td>\n",
       "      <td>...</td>\n",
       "      <td>34.0</td>\n",
       "      <td>42.0</td>\n",
       "      <td>54.0</td>\n",
       "      <td>102326975</td>\n",
       "      <td>7738347.0</td>\n",
       "      <td>913-188</td>\n",
       "      <td>40-3</td>\n",
       "      <td>CarlosMoya,FranciscoRoig</td>\n",
       "      <td>Manacor,Mallorca,Spain</td>\n",
       "      <td>Manacor,Mallorca,Spain</td>\n",
       "    </tr>\n",
       "  </tbody>\n",
       "</table>\n",
       "<p>1 rows × 35 columns</p>\n",
       "</div>"
      ],
      "text/plain": [
       "   id  rank         name  nat   age       birth  turned_pro  weight  height  \\\n",
       "0   0     1  RafaelNadal  ESP  32.0  1986.06.03      2001.0    85.0   185.0   \n",
       "\n",
       "                    plays  ...  re_games_won  re_points_won  total_points_won  \\\n",
       "0  Left-Handed,Two-Handed  ...          34.0           42.0              54.0   \n",
       "\n",
       "       prize  prize_year    score  score_year                     coach  \\\n",
       "0  102326975   7738347.0  913-188        40-3  CarlosMoya,FranciscoRoig   \n",
       "\n",
       "              place_birth               residence  \n",
       "0  Manacor,Mallorca,Spain  Manacor,Mallorca,Spain  \n",
       "\n",
       "[1 rows x 35 columns]"
      ]
     },
     "execution_count": 9,
     "metadata": {},
     "output_type": "execute_result"
    }
   ],
   "source": [
    "df_player_info.head(1)"
   ]
  },
  {
   "cell_type": "code",
   "execution_count": 13,
   "metadata": {},
   "outputs": [
    {
     "data": {
      "text/plain": [
       "False    1496\n",
       "True        4\n",
       "Name: age, dtype: int64"
      ]
     },
     "execution_count": 13,
     "metadata": {},
     "output_type": "execute_result"
    }
   ],
   "source": [
    "df_player_info['age'].isna().value_counts()"
   ]
  },
  {
   "cell_type": "code",
   "execution_count": null,
   "metadata": {},
   "outputs": [],
   "source": []
  },
  {
   "cell_type": "code",
   "execution_count": null,
   "metadata": {},
   "outputs": [],
   "source": []
  },
  {
   "cell_type": "code",
   "execution_count": null,
   "metadata": {},
   "outputs": [],
   "source": []
  },
  {
   "cell_type": "code",
   "execution_count": null,
   "metadata": {},
   "outputs": [],
   "source": []
  },
  {
   "cell_type": "code",
   "execution_count": null,
   "metadata": {},
   "outputs": [],
   "source": []
  },
  {
   "cell_type": "code",
   "execution_count": null,
   "metadata": {},
   "outputs": [],
   "source": []
  },
  {
   "cell_type": "code",
   "execution_count": null,
   "metadata": {},
   "outputs": [],
   "source": []
  }
 ],
 "metadata": {
  "kernelspec": {
   "display_name": "Python 3",
   "language": "python",
   "name": "python3"
  },
  "language_info": {
   "codemirror_mode": {
    "name": "ipython",
    "version": 3
   },
   "file_extension": ".py",
   "mimetype": "text/x-python",
   "name": "python",
   "nbconvert_exporter": "python",
   "pygments_lexer": "ipython3",
   "version": "3.7.4"
  }
 },
 "nbformat": 4,
 "nbformat_minor": 2
}
